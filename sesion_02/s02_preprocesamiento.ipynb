{
  "cells": [
    {
      "cell_type": "code",
      "execution_count": null,
      "metadata": {
        "colab": {
          "base_uri": "https://localhost:8080/"
        },
        "collapsed": true,
        "id": "5LZe1HXeRBUJ",
        "outputId": "3e8acfbf-8c35-478b-cf99-dd5778b2d790"
      },
      "outputs": [],
      "source": [
        "# Instalar el conector de MySQL\n",
        "! pip install mysql-connector-python\n",
        "\n",
        "# Importar SQLAlchemy para trabajar con bases de datos y ORM\n",
        "from sqlalchemy import create_engine"
      ]
    },
    {
      "cell_type": "code",
      "execution_count": null,
      "metadata": {
        "id": "oAzMumkvQmWj"
      },
      "outputs": [],
      "source": [
        "import pandas as pd\n",
        "import numpy as np\n",
        "\n",
        "import datetime\n",
        "from datetime import datetime"
      ]
    },
    {
      "cell_type": "code",
      "execution_count": null,
      "metadata": {
        "colab": {
          "base_uri": "https://localhost:8080/"
        },
        "collapsed": true,
        "id": "0mxlBYBORNPj",
        "outputId": "589784fb-3b2f-4d98-fea8-ebfed5b7da71"
      },
      "outputs": [],
      "source": [
        "# Montar Google Drive en el entorno de Colab para acceder\n",
        "# a archivos almacenados en la unidad de Google Drive\n",
        "from google.colab import drive\n",
        "drive.mount('/content/drive')\n",
        "\n",
        "# Definir la ruta del directorio donde se encuentran los archivos\n",
        "ruta = '/content/drive/MyDrive/intersem_FES_PACD-2024-II/'"
      ]
    },
    {
      "cell_type": "code",
      "execution_count": null,
      "metadata": {
        "colab": {
          "base_uri": "https://localhost:8080/",
          "height": 738
        },
        "collapsed": true,
        "id": "NJ7Tm-ITRufG",
        "outputId": "6320d628-1bc7-4fdd-e459-5d777efdd926"
      },
      "outputs": [],
      "source": [
        "# [01] Cargar el archivo CSV en un DataFrame de pandas\n",
        "df_csv = pd.read_csv(\n",
        "    ruta + '20240603_2005_PREP/20240603_2005_PREP_PRES/PRES_2024.csv',\n",
        "    low_memory=False, # Evitar la carga en trozos pequeños para mejorar el rendimiento\n",
        "    header=4) # Comenzar a leer desde la línea 4 para saltar las cabeceras no deseadas\n",
        "\n",
        "# Limpiar columnas específicas de caracteres no deseados\n",
        "df_csv['CLAVE_CASILLA'] = df_csv['CLAVE_CASILLA'].str.replace(\"'\", \"\")\n",
        "df_csv['CLAVE_ACTA'] = df_csv['CLAVE_ACTA'].str.replace(\"'\", \"\")\n",
        "\n",
        "# Crear una copia del DataFrame original\n",
        "df_original = df_csv.copy"
      ]
    },
    {
      "cell_type": "code",
      "execution_count": null,
      "metadata": {
        "colab": {
          "base_uri": "https://localhost:8080/",
          "height": 444
        },
        "collapsed": true,
        "id": "LBnvarIpH292",
        "outputId": "c2f3997b-62cd-4271-b585-f8e84caf46f2"
      },
      "outputs": [],
      "source": [
        "# Mostrar el DataFrame\n",
        "df_csv"
      ]
    },
    {
      "cell_type": "code",
      "execution_count": null,
      "metadata": {
        "colab": {
          "base_uri": "https://localhost:8080/"
        },
        "collapsed": true,
        "id": "JMhDtMmSSB8L",
        "outputId": "44b38a42-9c94-474f-80c3-b333bbab06de"
      },
      "outputs": [],
      "source": [
        "# Visualización de los tipos de datos del DataFrame\n",
        "df_csv.dtypes"
      ]
    },
    {
      "cell_type": "code",
      "execution_count": null,
      "metadata": {
        "colab": {
          "base_uri": "https://localhost:8080/"
        },
        "collapsed": true,
        "id": "1fp0cLhyI7Vd",
        "outputId": "7516ee2f-4b29-4857-d19e-b59c5d355e4f"
      },
      "outputs": [],
      "source": [
        "# Selección y visualización de la columna 'FECHA_HORA_ACOPIO'\n",
        "df_csv['FECHA_HORA_ACOPIO']"
      ]
    },
    {
      "cell_type": "code",
      "execution_count": null,
      "metadata": {
        "colab": {
          "base_uri": "https://localhost:8080/",
          "height": 35
        },
        "collapsed": true,
        "id": "Vui7ynjnItN_",
        "outputId": "a51ff3b2-a285-409a-9248-66c7bace3059"
      },
      "outputs": [],
      "source": [
        "# Asignación de la columna 'FECHA_HORA_ACOPIO' a una serie\n",
        "s_FECHA_HORA_ACOPIO = df_csv['FECHA_HORA_ACOPIO']\n",
        "s_FECHA_HORA_ACOPIO[0]"
      ]
    },
    {
      "cell_type": "code",
      "execution_count": null,
      "metadata": {
        "collapsed": true,
        "id": "f1H1sqysS8Z6"
      },
      "outputs": [],
      "source": [
        "# [01] Convertir las columnas de fechas a objetos datetime\n",
        "# si hay algún error, se convierte en valor nulo\n",
        "\n",
        "df_csv['FECHA_HORA_ACOPIO'] = \\\n",
        "pd.to_datetime(df_csv['FECHA_HORA_ACOPIO'], format='%d/%m/%Y %H:%M:%S', errors='coerce')\n",
        "\n",
        "df_csv['FECHA_HORA_CAPTURA'] = \\\n",
        "pd.to_datetime(df_csv['FECHA_HORA_CAPTURA'], format='%d/%m/%Y %H:%M:%S', errors='coerce')\n",
        "\n",
        "df_csv['FECHA_HORA_VERIFICACION'] = \\\n",
        "pd.to_datetime(df_csv['FECHA_HORA_VERIFICACION'], format='%d/%m/%Y %H:%M:%S', errors='coerce')"
      ]
    },
    {
      "cell_type": "code",
      "execution_count": null,
      "metadata": {
        "colab": {
          "base_uri": "https://localhost:8080/"
        },
        "collapsed": true,
        "id": "7b3ERMmyMcwl",
        "outputId": "ad2b83aa-2359-4003-e37c-fb62d840bcc7"
      },
      "outputs": [],
      "source": [
        "# Revisión de los tipos de datos después de la conversión\n",
        "df_csv.dtypes"
      ]
    },
    {
      "cell_type": "code",
      "execution_count": null,
      "metadata": {
        "colab": {
          "base_uri": "https://localhost:8080/"
        },
        "collapsed": true,
        "id": "QhBFq70ULycH",
        "outputId": "5e9b82c6-37f9-4691-ad02-f40cd0f7038f"
      },
      "outputs": [],
      "source": [
        "# Revisión de valores nulos en todo el DataFrame\n",
        "df_csv.isnull()"
      ]
    },
    {
      "cell_type": "code",
      "execution_count": null,
      "metadata": {
        "colab": {
          "base_uri": "https://localhost:8080/"
        },
        "collapsed": true,
        "id": "InKOGXCoVOQK",
        "outputId": "1d866c7c-7b04-44ac-d5be-0a5f3fee774e"
      },
      "outputs": [],
      "source": [
        "# Contar el número de valores nulos por columna\n",
        "df_csv.isnull().sum()"
      ]
    },
    {
      "cell_type": "code",
      "execution_count": null,
      "metadata": {
        "colab": {
          "base_uri": "https://localhost:8080/"
        },
        "collapsed": true,
        "id": "dz5crP0EUzsX",
        "outputId": "7f8b4afb-e687-4e5b-e8fd-b0626969b1dd"
      },
      "outputs": [],
      "source": [
        "# Revisión de valores nulos en la columna 'ID_DISTRITO_FEDERAL'\n",
        "df_csv['ID_DISTRITO_FEDERAL'].isnull()"
      ]
    },
    {
      "cell_type": "code",
      "execution_count": null,
      "metadata": {
        "colab": {
          "base_uri": "https://localhost:8080/"
        },
        "collapsed": true,
        "id": "ag8yhFeANGZF",
        "outputId": "75247f34-0909-4e79-df01-a2ef233b718c"
      },
      "outputs": [],
      "source": [
        "# Contar el número de valores nulos en la columna 'ID_DISTRITO_FEDERAL'\n",
        "df_csv['ID_DISTRITO_FEDERAL'].isnull().sum()"
      ]
    },
    {
      "cell_type": "code",
      "execution_count": null,
      "metadata": {
        "colab": {
          "base_uri": "https://localhost:8080/"
        },
        "collapsed": true,
        "id": "Bcoku8heQgEG",
        "outputId": "db11d985-f577-4967-c778-facbf4790c45"
      },
      "outputs": [],
      "source": [
        "# Detección de filas duplicadas\n",
        "df_csv.duplicated()"
      ]
    },
    {
      "cell_type": "code",
      "execution_count": null,
      "metadata": {
        "colab": {
          "base_uri": "https://localhost:8080/"
        },
        "collapsed": true,
        "id": "8YONWgRwWS8n",
        "outputId": "d756e379-bb7e-446c-86fb-e2aa47761266"
      },
      "outputs": [],
      "source": [
        "# Contar el número de filas duplicadas\n",
        "df_csv.duplicated().sum()"
      ]
    },
    {
      "cell_type": "code",
      "execution_count": null,
      "metadata": {
        "colab": {
          "base_uri": "https://localhost:8080/",
          "height": 548
        },
        "collapsed": true,
        "id": "agq65eCRW5aB",
        "outputId": "e7c6553a-b578-45ce-e2ea-0ab8311f601e"
      },
      "outputs": [],
      "source": [
        "# Selección de las filas duplicadas para su revisión\n",
        "df_duplicados = df_csv[df_csv.duplicated()]\n",
        "df_duplicados"
      ]
    },
    {
      "cell_type": "code",
      "execution_count": null,
      "metadata": {
        "colab": {
          "base_uri": "https://localhost:8080/"
        },
        "collapsed": true,
        "id": "Ox7Ui9eAXdfT",
        "outputId": "ab2363e6-e20a-4e94-ce4d-1a78f814e739"
      },
      "outputs": [],
      "source": [
        "# Revisión de los valores únicos en la columna 'NULOS'\n",
        "df_csv['NULOS'].unique()"
      ]
    },
    {
      "cell_type": "code",
      "execution_count": null,
      "metadata": {
        "colab": {
          "base_uri": "https://localhost:8080/"
        },
        "collapsed": true,
        "id": "Vi43ENMUX3P2",
        "outputId": "ae7e61b7-d888-4f8f-ea7d-7af84e705291"
      },
      "outputs": [],
      "source": [
        "# [1.1] Revisión de los valores únicos para columnas categóricas específicas\n",
        "\n",
        "columnas_categoricas = ['TIPO_CASILLA',\n",
        "                        'EXT_CONTIGUA',\n",
        "                        'TIPO_ACTA',\n",
        "                        'ENTIDAD',\n",
        "                        'ORIGEN',\n",
        "                        'DIGITALIZACION',\n",
        "                        'TIPO_DOCUMENTO',\n",
        "                        'COTEJADA',\n",
        "                        'MECANISMOS_TRASLADO']\n",
        "\n",
        "for columna in columnas_categoricas:\n",
        "\n",
        "  print(f\"Valores unicos para {columna}\")\n",
        "  print(df_csv[columna].unique())\n",
        "  print()"
      ]
    },
    {
      "cell_type": "code",
      "execution_count": null,
      "metadata": {
        "colab": {
          "base_uri": "https://localhost:8080/",
          "height": 444
        },
        "collapsed": true,
        "id": "stwJBKx1Zn8a",
        "outputId": "08728ba5-e0fe-4a21-df24-36001bb41bb5"
      },
      "outputs": [],
      "source": [
        "# Selección de filas con valores nulos en 'ID_DISTRITO_FEDERAL'\n",
        "df_csv[df_csv['ID_DISTRITO_FEDERAL'].isnull()]"
      ]
    },
    {
      "cell_type": "code",
      "execution_count": null,
      "metadata": {
        "id": "9oVwgWiDu2ba"
      },
      "outputs": [],
      "source": [
        "# Selección de filas sin valores nulos en 'ID_DISTRITO_FEDERAL'\n",
        "df_csv[df_csv['ID_DISTRITO_FEDERAL'].notnull()]"
      ]
    },
    {
      "cell_type": "code",
      "execution_count": null,
      "metadata": {
        "id": "AMn02M1TbHha"
      },
      "outputs": [],
      "source": [
        "# [02] Rellenar valores nulos con 0 y cambiar el tipo de datos a enteros\n",
        "\n",
        "df_csv['ID_DISTRITO_FEDERAL'] = df_csv['ID_DISTRITO_FEDERAL'].fillna(0)\n",
        "df_csv['SECCION'] = df_csv['SECCION'].fillna(0)\n",
        "df_csv['ID_CASILLA'] = df_csv['ID_CASILLA'].fillna(0)\n",
        "\n",
        "df_csv['ID_DISTRITO_FEDERAL'] = df_csv['ID_DISTRITO_FEDERAL'].astype(np.int64)\n",
        "df_csv['SECCION'] = df_csv['SECCION'].astype(np.int64)\n",
        "df_csv['ID_CASILLA'] = df_csv['ID_CASILLA'].astype(np.int64)"
      ]
    },
    {
      "cell_type": "code",
      "execution_count": null,
      "metadata": {
        "colab": {
          "base_uri": "https://localhost:8080/"
        },
        "collapsed": true,
        "id": "f3FR1dsKcScD",
        "outputId": "cb176937-46b3-4fb5-a8d4-f9fcc49cb58c"
      },
      "outputs": [],
      "source": [
        "# Revisión de los tipos de datos después de la conversión\n",
        "df_csv.dtypes"
      ]
    },
    {
      "cell_type": "code",
      "execution_count": null,
      "metadata": {
        "colab": {
          "base_uri": "https://localhost:8080/",
          "height": 444
        },
        "collapsed": true,
        "id": "PugA3f2acVkt",
        "outputId": "a3cc80b3-0be6-4a4d-ce4a-502257619ee2"
      },
      "outputs": [],
      "source": [
        "# Visualización del DataFrame actualizado\n",
        "df_csv"
      ]
    },
    {
      "cell_type": "code",
      "execution_count": null,
      "metadata": {
        "colab": {
          "base_uri": "https://localhost:8080/",
          "height": 99
        },
        "collapsed": true,
        "id": "ZRcn5Pf3cmqj",
        "outputId": "e6eb7059-2b4a-408d-a6c7-9025af25c502"
      },
      "outputs": [],
      "source": [
        "# Revisión de filas con valores nulos en 'ID_DISTRITO_FEDERAL'\n",
        "df_csv[df_csv['ID_DISTRITO_FEDERAL'].isnull()]"
      ]
    },
    {
      "cell_type": "code",
      "execution_count": null,
      "metadata": {
        "colab": {
          "base_uri": "https://localhost:8080/"
        },
        "collapsed": true,
        "id": "ePmxDEutc6ZR",
        "outputId": "b32974c1-aa01-46bf-bdcc-7bb1eac5c05a"
      },
      "outputs": [],
      "source": [
        "# Visualización de todas las columnas del DataFrame\n",
        "df_csv.columns"
      ]
    },
    {
      "cell_type": "code",
      "execution_count": null,
      "metadata": {
        "colab": {
          "base_uri": "https://localhost:8080/",
          "height": 461
        },
        "collapsed": true,
        "id": "6Al-utlUcp9p",
        "outputId": "e5a94f16-1e5e-4b3d-92ea-e92ba933efee"
      },
      "outputs": [],
      "source": [
        "# [2.1] Determinación de filas con más del 50% de valores nulos\n",
        "\n",
        "limite_renglon = len(df_csv.columns) * 0.5\n",
        "print(limite_renglon)\n",
        "\n",
        "renglones_mas_50_nulos = df_csv[df_csv.isnull().sum(axis=1) > limite_renglon]\n",
        "renglones_mas_50_nulos"
      ]
    },
    {
      "cell_type": "code",
      "execution_count": null,
      "metadata": {
        "colab": {
          "base_uri": "https://localhost:8080/"
        },
        "collapsed": true,
        "id": "aQJqbtYTdzny",
        "outputId": "ef613bca-2680-4d6c-9178-c56235a422ec"
      },
      "outputs": [],
      "source": [
        "# [2.1] Determinación de columnas con más del 50% de valores nulos\n",
        "\n",
        "limite_columna = len(df_csv) * 0.5\n",
        "print(limite_columna)\n",
        "\n",
        "columnas_mas_50_nulos = df_csv.columns[df_csv.isnull().sum(axis=0) > limite_columna]\n",
        "columnas_mas_50_nulos"
      ]
    },
    {
      "cell_type": "code",
      "execution_count": null,
      "metadata": {
        "colab": {
          "base_uri": "https://localhost:8080/",
          "height": 1000
        },
        "collapsed": true,
        "id": "MZwqDvI1ey3I",
        "outputId": "8364a84d-b43a-4a82-f740-b423f4acc8db"
      },
      "outputs": [],
      "source": [
        "# [2.2] Conteo de valores específicos ('Ilegible', 'Sin dato', '-')\n",
        "\n",
        "valores_contar = ['Ilegible', 'Sin dato', '-']\n",
        "df_conteo_sin_dato = pd.DataFrame()\n",
        "\n",
        "for valor in valores_contar:\n",
        "\n",
        "  conteo_valor = df_csv.apply(lambda x: x[x == valor].count())\n",
        "  df_conteo_sin_dato[valor] = conteo_valor\n",
        "\n",
        "df_conteo_sin_dato"
      ]
    },
    {
      "cell_type": "code",
      "execution_count": null,
      "metadata": {
        "colab": {
          "base_uri": "https://localhost:8080/"
        },
        "collapsed": true,
        "id": "jP4xvUJqgSkR",
        "outputId": "5c0d0463-a3f6-4bc7-928f-41ab5f6f95da"
      },
      "outputs": [],
      "source": [
        "# Revisión de los tipos de datos después de la conversión\n",
        "df_csv.dtypes"
      ]
    },
    {
      "cell_type": "code",
      "execution_count": null,
      "metadata": {
        "colab": {
          "base_uri": "https://localhost:8080/"
        },
        "collapsed": true,
        "id": "Vy3A1AALgqLm",
        "outputId": "323f94c2-1a44-4aea-f200-111efe27e2bb"
      },
      "outputs": [],
      "source": [
        "# [03] Reemplazo de valores específicos ('Ilegible', 'Sin dato', '-') con NaN y conversión a tipo numérico\n",
        "\n",
        "valores_reemplazar = ['Ilegible', 'Sin dato']\n",
        "\n",
        "# Conteo de valores específicos antes de reemplazar\n",
        "conteo_valores = {\n",
        "    'Ilegible' : df_csv.apply(lambda x: (x == 'Ilegible').sum()),\n",
        "    'Sin dato' : df_csv.apply(lambda x: (x == 'Sin dato').sum())\n",
        "}\n",
        "conteo_df = pd.DataFrame(conteo_valores)\n",
        "\n",
        "# Identificación de columnas que contienen los valores específicos\n",
        "columnas_convertir = conteo_df[(conteo_df[\"Ilegible\"] > 0) | (conteo_df[\"Sin dato\"] > 0)].index.tolist()\n",
        "columnas_convertir"
      ]
    },
    {
      "cell_type": "code",
      "execution_count": null,
      "metadata": {
        "colab": {
          "base_uri": "https://localhost:8080/"
        },
        "collapsed": true,
        "id": "eT8x3vPoisWy",
        "outputId": "ddb8c8d7-a9fb-4b29-e11e-54ba3a81474f"
      },
      "outputs": [],
      "source": [
        "# Reemplazo de valores específicos con NaN\n",
        "\n",
        "# Primera forma\n",
        "valores_reemplazar = ['Ilegible', 'Sin dato', '-']\n",
        "df_csv[columnas_convertir].replace(valores_reemplazar, np.nan, inplace=True)\n",
        "\n",
        "# Segunda forma\n",
        "valores_reemplazar = ['Ilegible', 'Sin dato', '-']\n",
        "df_csv[columnas_convertir] = df_csv[columnas_convertir].replace(valores_reemplazar, np.nan)\n",
        "\n",
        "# Conversión de las columnas a tipo numérico\n",
        "df_csv[columnas_convertir] = df_csv[columnas_convertir].\\\n",
        "apply(pd.to_numeric, errors='coerce').astype(pd.Int64Dtype())"
      ]
    },
    {
      "cell_type": "code",
      "execution_count": null,
      "metadata": {
        "colab": {
          "base_uri": "https://localhost:8080/"
        },
        "collapsed": true,
        "id": "0W7ldbSekHQm",
        "outputId": "45c5cc65-b416-491e-f8ca-fe3d93575e0e"
      },
      "outputs": [],
      "source": [
        "# Revisión de los tipos de datos después de la conversión\n",
        "df_csv.dtypes"
      ]
    },
    {
      "cell_type": "code",
      "execution_count": null,
      "metadata": {
        "id": "1L0QBnCFkZx2"
      },
      "outputs": [],
      "source": [
        "# Cálculo de diferencias de tiempo entre fechas en minutos\n",
        "\n",
        "df_csv['DIF_ACOPIO_CAPTURA'] = \\\n",
        "np.round((df_csv['FECHA_HORA_CAPTURA'] - df_csv['FECHA_HORA_ACOPIO']).dt.total_seconds() / 60)\n",
        "\n",
        "df_csv['DIF_CAPTURA_VERIFICACION'] = \\\n",
        "np.round((df_csv['FECHA_HORA_VERIFICACION'] - df_csv['FECHA_HORA_CAPTURA']).dt.total_seconds() / 60)\n",
        "\n",
        "df_csv['DURACION_TOTAL'] = \\\n",
        "np.round((df_csv['FECHA_HORA_VERIFICACION'] - df_csv['FECHA_HORA_ACOPIO']).dt.total_seconds() / 60)"
      ]
    },
    {
      "cell_type": "code",
      "execution_count": null,
      "metadata": {
        "id": "OYjqvTTSlqDr"
      },
      "outputs": [],
      "source": [
        "# Conversión de las diferencias de tiempo a horas\n",
        "\n",
        "df_csv['DIF_ACOPIO_CAPTURA_HORAS'] = \\\n",
        "np.round(df_csv['DIF_ACOPIO_CAPTURA'] / 60, 2)\n",
        "\n",
        "df_csv['DIF_CAPTURA_VERIFICACION_HORAS'] = \\\n",
        "np.round(df_csv['DIF_CAPTURA_VERIFICACION'] / 60, 2)\n",
        "\n",
        "df_csv['DURACION_TOTAL_HORAS'] = \\\n",
        "np.round(df_csv['DURACION_TOTAL'] / 60, 2)"
      ]
    },
    {
      "cell_type": "code",
      "execution_count": null,
      "metadata": {
        "id": "X6OvIv0VmfND"
      },
      "outputs": [],
      "source": [
        "# Identificación de procesos rápidos (menos de 60 minutos)\n",
        "\n",
        "umbral_minutos = 60\n",
        "\n",
        "df_csv['ACOPIO_CAPTURA_RAPIDO'] = (df_csv['DIF_ACOPIO_CAPTURA'] <= umbral_minutos).astype(int)\n",
        "df_csv['CAPTURA_VERIFICACION_RAPIDO'] = (df_csv['DIF_CAPTURA_VERIFICACION'] <= umbral_minutos).astype(int)\n",
        "df_csv['DURACION_TOTAL_RAPIDO'] = (df_csv['DURACION_TOTAL'] <= umbral_minutos).astype(int)"
      ]
    },
    {
      "cell_type": "code",
      "execution_count": null,
      "metadata": {
        "id": "MSb0m4lt7tdy"
      },
      "outputs": [],
      "source": [
        "# Visualización del DataFrame actualizado con las nuevas columnas\n",
        "df_csv"
      ]
    },
    {
      "cell_type": "code",
      "execution_count": null,
      "metadata": {
        "colab": {
          "base_uri": "https://localhost:8080/",
          "height": 1000
        },
        "collapsed": true,
        "id": "AD6gb795mGH-",
        "outputId": "8d32ba3a-3ad1-4f55-f73b-605b6729d8cb"
      },
      "outputs": [],
      "source": [
        "# Información adicional sobre el alumno y registro de fecha y hora\n",
        "\n",
        "alumno = \"ANGEL PEREZ RODRIGUEZ RODRIGUEZ\"\n",
        "\n",
        "df_conteo_sin_dato.reset_index(inplace=True)\n",
        "df_conteo_sin_dato.rename(columns={'index':'columna'}, inplace=True)\n",
        "\n",
        "df_conteo_sin_dato['fecha_hora_actual'] = datetime.now().strftime(\"%Y-%m-%d %H:%M:%S\")\n",
        "df_conteo_sin_dato['alumno'] = alumno\n",
        "\n",
        "df_conteo_sin_dato"
      ]
    },
    {
      "cell_type": "code",
      "execution_count": null,
      "metadata": {
        "colab": {
          "base_uri": "https://localhost:8080/"
        },
        "collapsed": true,
        "id": "Qe4nS0e9oMgk",
        "outputId": "f9ebce13-cc6d-4d5f-b020-e637bbc98713"
      },
      "outputs": [],
      "source": [
        "# Guardar el DataFrame en diferentes formatos\n",
        "import os\n",
        "\n",
        "# Definición de la ruta donde se guardarán los archivos procesados\n",
        "ruta_guardar = ruta + \"20240603_2005_PREP/procesado/\"\n",
        "nombre_archivo = 'PRES_PROCESADO_2024'\n",
        "\n",
        "# Creación del directorio si no existe\n",
        "os.makedirs(ruta_guardar, exist_ok=True)\n",
        "print(ruta_guardar)"
      ]
    },
    {
      "cell_type": "code",
      "execution_count": null,
      "metadata": {
        "id": "IAQ8QqxAo7wV"
      },
      "outputs": [],
      "source": [
        "# Guardar el DataFrame en un archivo CSV\n",
        "df_csv.to_csv(ruta_guardar + nombre_archivo + '.csv', index=False)"
      ]
    },
    {
      "cell_type": "code",
      "execution_count": null,
      "metadata": {
        "colab": {
          "base_uri": "https://localhost:8080/",
          "height": 159
        },
        "collapsed": true,
        "id": "8mogG91FpTRL",
        "outputId": "1bd41b50-ff2f-4199-a516-1ba7155dcdb1"
      },
      "outputs": [],
      "source": [
        "# Guardar el DataFrame en un archivo Excel\n",
        "df_csv.to_excel(ruta_guardar + nombre_archivo + '.xlsx', index=False, sheet_name=nombre_archivo)"
      ]
    },
    {
      "cell_type": "code",
      "execution_count": null,
      "metadata": {
        "id": "ys5JEbMSp-4R"
      },
      "outputs": [],
      "source": [
        "# Guardar el DataFrame en un archivo JSON\n",
        "df_csv.to_json(ruta_guardar + nombre_archivo + '.json', orient='records')"
      ]
    },
    {
      "cell_type": "code",
      "execution_count": null,
      "metadata": {
        "collapsed": true,
        "id": "YJ4DxD7Rq2vY"
      },
      "outputs": [],
      "source": [
        "# Importación de la biblioteca pickle para guardar objetos en archivos binarios\n",
        "import pickle\n",
        "\n",
        "# Guardar el DataFrame en un archivo pickle\n",
        "with open(os.path.join(ruta_guardar, nombre_archivo + '.pkl'), 'wb') as archivo:\n",
        "  pickle.dump(df_csv, archivo)"
      ]
    },
    {
      "cell_type": "code",
      "execution_count": null,
      "metadata": {
        "colab": {
          "base_uri": "https://localhost:8080/"
        },
        "collapsed": true,
        "id": "6eQZkTUVqRmn",
        "outputId": "1ba4e54c-c78e-45de-8e46-24f9f1ca9eb7"
      },
      "outputs": [],
      "source": [
        "# Definición del nombre de la tabla en la base de datos, reemplazando espacios por guiones bajos\n",
        "nombre_tabla = f\"PACD_{alumno}\".replace(\" \", \"_\")\n",
        "\n",
        "# Información de conexión a la base de datos MySQL\n",
        "user='usabierto02'\n",
        "password='datos21%'\n",
        "host='bd.arcelia.net'\n",
        "database='datosabiertos'\n",
        "puerto = '3306'\n",
        "auth = 'mysql_native_password'\n",
        "\n",
        "# Cadena de conexión para SQLAlchemy\n",
        "str_conn = f'mysql+mysqlconnector://{user}:{password}@{host}:{puerto}/{database}?auth_plugin={auth}'\n",
        "engine = create_engine(str_conn)\n",
        "\n",
        "# Guardar el DataFrame de conteo de valores sin dato en la base de datos MySQL\n",
        "df_conteo_sin_dato.to_sql(nombre_tabla, con=engine, if_exists='replace', index=False)\n",
        "print(f\"Datos guardados en la tabla {nombre_tabla} de MySQL\")"
      ]
    }
  ],
  "metadata": {
    "colab": {
      "provenance": []
    },
    "kernelspec": {
      "display_name": "Python 3",
      "name": "python3"
    },
    "language_info": {
      "name": "python"
    }
  },
  "nbformat": 4,
  "nbformat_minor": 0
}
